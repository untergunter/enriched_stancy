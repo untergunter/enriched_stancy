{
 "cells": [
  {
   "cell_type": "code",
   "execution_count": 232,
   "metadata": {},
   "outputs": [
    {
     "data": {
      "text/html": [
       "<div>\n",
       "<style scoped>\n",
       "    .dataframe tbody tr th:only-of-type {\n",
       "        vertical-align: middle;\n",
       "    }\n",
       "\n",
       "    .dataframe tbody tr th {\n",
       "        vertical-align: top;\n",
       "    }\n",
       "\n",
       "    .dataframe thead th {\n",
       "        text-align: right;\n",
       "    }\n",
       "</style>\n",
       "<table border=\"1\" class=\"dataframe\">\n",
       "  <thead>\n",
       "    <tr style=\"text-align: right;\">\n",
       "      <th></th>\n",
       "      <th>pId</th>\n",
       "      <th>text</th>\n",
       "      <th>source</th>\n",
       "    </tr>\n",
       "  </thead>\n",
       "  <tbody>\n",
       "    <tr>\n",
       "      <th>0</th>\n",
       "      <td>1</td>\n",
       "      <td>Being a performer limits a child’s formal educ...</td>\n",
       "      <td>idebate</td>\n",
       "    </tr>\n",
       "    <tr>\n",
       "      <th>1</th>\n",
       "      <td>2</td>\n",
       "      <td>performers are at risk of exploitation</td>\n",
       "      <td>idebate</td>\n",
       "    </tr>\n",
       "    <tr>\n",
       "      <th>2</th>\n",
       "      <td>3</td>\n",
       "      <td>It is unethical to expose children to the pres...</td>\n",
       "      <td>idebate</td>\n",
       "    </tr>\n",
       "    <tr>\n",
       "      <th>3</th>\n",
       "      <td>4</td>\n",
       "      <td>Being a performer can make the child physicall...</td>\n",
       "      <td>idebate</td>\n",
       "    </tr>\n",
       "    <tr>\n",
       "      <th>4</th>\n",
       "      <td>5</td>\n",
       "      <td>Allowing children to perform pushes them to gr...</td>\n",
       "      <td>idebate</td>\n",
       "    </tr>\n",
       "  </tbody>\n",
       "</table>\n",
       "</div>"
      ],
      "text/plain": [
       "   pId                                               text   source\n",
       "0    1  Being a performer limits a child’s formal educ...  idebate\n",
       "1    2             performers are at risk of exploitation  idebate\n",
       "2    3  It is unethical to expose children to the pres...  idebate\n",
       "3    4  Being a performer can make the child physicall...  idebate\n",
       "4    5  Allowing children to perform pushes them to gr...  idebate"
      ]
     },
     "execution_count": 232,
     "metadata": {},
     "output_type": "execute_result"
    }
   ],
   "source": [
    "import json\n",
    "\n",
    "\n",
    "data_dir= r'C:\\Users\\User\\Desktop\\SCOOL\\SCOOL\\semester_2\\advenced_mechine_learning\\פרוייקט גמר\\perspectrum\\data\\dataset'\n",
    "\n",
    "file = data_dir + \"\\perspective_pool_v1.0.json\"\n",
    "\n",
    "perspective_df = pd.io.json.read_json(file)\n",
    "perspective_df.head()"
   ]
  },
  {
   "cell_type": "code",
   "execution_count": 233,
   "metadata": {},
   "outputs": [
    {
     "data": {
      "text/plain": [
       "count        8092\n",
       "unique          3\n",
       "top       idebate\n",
       "freq         4133\n",
       "Name: source, dtype: object"
      ]
     },
     "execution_count": 233,
     "metadata": {},
     "output_type": "execute_result"
    }
   ],
   "source": [
    "\n",
    "df.source.describe()"
   ]
  },
  {
   "cell_type": "code",
   "execution_count": 234,
   "metadata": {},
   "outputs": [
    {
     "data": {
      "text/plain": [
       "array(['idebate', 'procon', 'debatewise'], dtype=object)"
      ]
     },
     "execution_count": 234,
     "metadata": {},
     "output_type": "execute_result"
    }
   ],
   "source": [
    "df.source.unique()"
   ]
  },
  {
   "cell_type": "code",
   "execution_count": 235,
   "metadata": {},
   "outputs": [
    {
     "data": {
      "text/plain": [
       "idebate       4133\n",
       "debatewise    3013\n",
       "procon         946\n",
       "Name: source, dtype: int64"
      ]
     },
     "execution_count": 235,
     "metadata": {},
     "output_type": "execute_result"
    }
   ],
   "source": [
    "df.source.value_counts()"
   ]
  },
  {
   "cell_type": "code",
   "execution_count": 236,
   "metadata": {},
   "outputs": [
    {
     "data": {
      "text/plain": [
       "<matplotlib.axes._subplots.AxesSubplot at 0x14f8b698c10>"
      ]
     },
     "execution_count": 236,
     "metadata": {},
     "output_type": "execute_result"
    },
    {
     "data": {
      "image/png": "[encoded data removed]",
      "text/plain": [
       "<Figure size 432x288 with 1 Axes>"
      ]
     },
     "metadata": {
      "needs_background": "light"
     },
     "output_type": "display_data"
    }
   ],
   "source": [
    "df.source.hist()"
   ]
  },
  {
   "cell_type": "code",
   "execution_count": 275,
   "metadata": {},
   "outputs": [
    {
     "data": {
      "text/html": [
       "<div>\n",
       "<style scoped>\n",
       "    .dataframe tbody tr th:only-of-type {\n",
       "        vertical-align: middle;\n",
       "    }\n",
       "\n",
       "    .dataframe tbody tr th {\n",
       "        vertical-align: top;\n",
       "    }\n",
       "\n",
       "    .dataframe thead th {\n",
       "        text-align: right;\n",
       "    }\n",
       "</style>\n",
       "<table border=\"1\" class=\"dataframe\">\n",
       "  <thead>\n",
       "    <tr style=\"text-align: right;\">\n",
       "      <th></th>\n",
       "      <th>eId</th>\n",
       "      <th>text</th>\n",
       "      <th>source</th>\n",
       "    </tr>\n",
       "  </thead>\n",
       "  <tbody>\n",
       "    <tr>\n",
       "      <th>0</th>\n",
       "      <td>1</td>\n",
       "      <td>Spending so much time either performing or tra...</td>\n",
       "      <td>idebate</td>\n",
       "    </tr>\n",
       "    <tr>\n",
       "      <th>1</th>\n",
       "      <td>2</td>\n",
       "      <td>Children are generally considered to be too yo...</td>\n",
       "      <td>idebate</td>\n",
       "    </tr>\n",
       "    <tr>\n",
       "      <th>2</th>\n",
       "      <td>3</td>\n",
       "      <td>Even experienced adults can find it difficult ...</td>\n",
       "      <td>idebate</td>\n",
       "    </tr>\n",
       "    <tr>\n",
       "      <th>3</th>\n",
       "      <td>4</td>\n",
       "      <td>Children involved at a professional level in s...</td>\n",
       "      <td>idebate</td>\n",
       "    </tr>\n",
       "    <tr>\n",
       "      <th>4</th>\n",
       "      <td>5</td>\n",
       "      <td>Child performers are exposed to a much higher ...</td>\n",
       "      <td>idebate</td>\n",
       "    </tr>\n",
       "  </tbody>\n",
       "</table>\n",
       "</div>"
      ],
      "text/plain": [
       "   eId                                               text   source\n",
       "0    1  Spending so much time either performing or tra...  idebate\n",
       "1    2  Children are generally considered to be too yo...  idebate\n",
       "2    3  Even experienced adults can find it difficult ...  idebate\n",
       "3    4  Children involved at a professional level in s...  idebate\n",
       "4    5  Child performers are exposed to a much higher ...  idebate"
      ]
     },
     "execution_count": 275,
     "metadata": {},
     "output_type": "execute_result"
    }
   ],
   "source": [
    "import json\n",
    "\n",
    "file = data_dir + \"\\evidence_pool_v1.0.json\"\n",
    "\n",
    "df = pd.io.json.read_json(file)\n",
    "df.head()"
   ]
  },
  {
   "cell_type": "code",
   "execution_count": 276,
   "metadata": {},
   "outputs": [
    {
     "data": {
      "text/plain": [
       "<matplotlib.axes._subplots.AxesSubplot at 0x14f8ed0a550>"
      ]
     },
     "execution_count": 276,
     "metadata": {},
     "output_type": "execute_result"
    },
    {
     "data": {
      "image/png": "[encoded data removed]",
      "text/plain": [
       "<Figure size 432x288 with 1 Axes>"
      ]
     },
     "metadata": {
      "needs_background": "light"
     },
     "output_type": "display_data"
    }
   ],
   "source": [
    "df.source.hist()"
   ]
  },
  {
   "cell_type": "code",
   "execution_count": 258,
   "metadata": {},
   "outputs": [],
   "source": [
    "file = data_dir + \"\\dataset_split_v1.0.json\"\n",
    "\n",
    "f = open(file,)\n",
    "\n",
    "\n",
    "split_df = pd.DataFrame.from_dict(dict(json.load(f)), orient='index', columns=['split'])"
   ]
  },
  {
   "cell_type": "code",
   "execution_count": 259,
   "metadata": {},
   "outputs": [
    {
     "name": "stdout",
     "output_type": "stream",
     "text": [
      "split    907\n",
      "dtype: int64\n"
     ]
    }
   ],
   "source": [
    "print(split_df.count())"
   ]
  },
  {
   "cell_type": "code",
   "execution_count": 260,
   "metadata": {},
   "outputs": [
    {
     "data": {
      "text/html": [
       "<div>\n",
       "<style scoped>\n",
       "    .dataframe tbody tr th:only-of-type {\n",
       "        vertical-align: middle;\n",
       "    }\n",
       "\n",
       "    .dataframe tbody tr th {\n",
       "        vertical-align: top;\n",
       "    }\n",
       "\n",
       "    .dataframe thead th {\n",
       "        text-align: right;\n",
       "    }\n",
       "</style>\n",
       "<table border=\"1\" class=\"dataframe\">\n",
       "  <thead>\n",
       "    <tr style=\"text-align: right;\">\n",
       "      <th></th>\n",
       "      <th>cId</th>\n",
       "      <th>text</th>\n",
       "      <th>source</th>\n",
       "      <th>perspectives</th>\n",
       "      <th>topics</th>\n",
       "    </tr>\n",
       "  </thead>\n",
       "  <tbody>\n",
       "    <tr>\n",
       "      <th>0</th>\n",
       "      <td>499</td>\n",
       "      <td>Vaccination must be made compulsory</td>\n",
       "      <td>idebate</td>\n",
       "      <td>[{'pids': [3695, 24076, 24077], 'stance_label_...</td>\n",
       "      <td>[health_and_medicine]</td>\n",
       "    </tr>\n",
       "    <tr>\n",
       "      <th>1</th>\n",
       "      <td>167</td>\n",
       "      <td>Male infant circumcision is tantamount to chil...</td>\n",
       "      <td>idebate</td>\n",
       "      <td>[{'pids': [1242, 21983, 21984], 'stance_label_...</td>\n",
       "      <td>[culture, health_and_medicine, gender]</td>\n",
       "    </tr>\n",
       "    <tr>\n",
       "      <th>2</th>\n",
       "      <td>943</td>\n",
       "      <td>School Day Should Be Extended</td>\n",
       "      <td>debatewise</td>\n",
       "      <td>[{'pids': [7579], 'stance_label_3': 'SUPPORT',...</td>\n",
       "      <td>[]</td>\n",
       "    </tr>\n",
       "    <tr>\n",
       "      <th>3</th>\n",
       "      <td>944</td>\n",
       "      <td>punishment should fit the criminal</td>\n",
       "      <td>debatewise</td>\n",
       "      <td>[{'pids': [7584, 26958, 26959], 'stance_label_...</td>\n",
       "      <td>[law]</td>\n",
       "    </tr>\n",
       "    <tr>\n",
       "      <th>4</th>\n",
       "      <td>621</td>\n",
       "      <td>A government has the obligation to lessen the ...</td>\n",
       "      <td>debatewise</td>\n",
       "      <td>[{'pids': [5143], 'stance_label_3': 'SUPPORT',...</td>\n",
       "      <td>[politics, economy, society]</td>\n",
       "    </tr>\n",
       "  </tbody>\n",
       "</table>\n",
       "</div>"
      ],
      "text/plain": [
       "   cId                                               text      source  \\\n",
       "0  499                Vaccination must be made compulsory     idebate   \n",
       "1  167  Male infant circumcision is tantamount to chil...     idebate   \n",
       "2  943                      School Day Should Be Extended  debatewise   \n",
       "3  944                 punishment should fit the criminal  debatewise   \n",
       "4  621  A government has the obligation to lessen the ...  debatewise   \n",
       "\n",
       "                                        perspectives  \\\n",
       "0  [{'pids': [3695, 24076, 24077], 'stance_label_...   \n",
       "1  [{'pids': [1242, 21983, 21984], 'stance_label_...   \n",
       "2  [{'pids': [7579], 'stance_label_3': 'SUPPORT',...   \n",
       "3  [{'pids': [7584, 26958, 26959], 'stance_label_...   \n",
       "4  [{'pids': [5143], 'stance_label_3': 'SUPPORT',...   \n",
       "\n",
       "                                   topics  \n",
       "0                   [health_and_medicine]  \n",
       "1  [culture, health_and_medicine, gender]  \n",
       "2                                      []  \n",
       "3                                   [law]  \n",
       "4            [politics, economy, society]  "
      ]
     },
     "execution_count": 260,
     "metadata": {},
     "output_type": "execute_result"
    }
   ],
   "source": [
    "import json\n",
    "\n",
    "file = data_dir + \"\\perspectrum_with_answers_v1.0.json\"\n",
    "\n",
    "perspectrum_df = pd.io.json.read_json(file)\n",
    "perspectrum_df.head()\n"
   ]
  },
  {
   "cell_type": "code",
   "execution_count": 261,
   "metadata": {},
   "outputs": [
    {
     "name": "stdout",
     "output_type": "stream",
     "text": [
      "cId             907\n",
      "text            907\n",
      "source          907\n",
      "perspectives    907\n",
      "topics          907\n",
      "dtype: int64\n"
     ]
    }
   ],
   "source": [
    "print(perspectrum_df.count())"
   ]
  },
  {
   "cell_type": "code",
   "execution_count": 262,
   "metadata": {},
   "outputs": [
    {
     "data": {
      "text/html": [
       "<div>\n",
       "<style scoped>\n",
       "    .dataframe tbody tr th:only-of-type {\n",
       "        vertical-align: middle;\n",
       "    }\n",
       "\n",
       "    .dataframe tbody tr th {\n",
       "        vertical-align: top;\n",
       "    }\n",
       "\n",
       "    .dataframe thead th {\n",
       "        text-align: right;\n",
       "    }\n",
       "</style>\n",
       "<table border=\"1\" class=\"dataframe\">\n",
       "  <thead>\n",
       "    <tr style=\"text-align: right;\">\n",
       "      <th></th>\n",
       "      <th>cId</th>\n",
       "      <th>text</th>\n",
       "      <th>source</th>\n",
       "      <th>perspectives</th>\n",
       "      <th>topics</th>\n",
       "    </tr>\n",
       "  </thead>\n",
       "  <tbody>\n",
       "    <tr>\n",
       "      <th>0</th>\n",
       "      <td>499</td>\n",
       "      <td>Vaccination must be made compulsory</td>\n",
       "      <td>idebate</td>\n",
       "      <td>[{'pids': [3695, 24076, 24077], 'stance_label_...</td>\n",
       "      <td>[health_and_medicine]</td>\n",
       "    </tr>\n",
       "    <tr>\n",
       "      <th>1</th>\n",
       "      <td>167</td>\n",
       "      <td>Male infant circumcision is tantamount to chil...</td>\n",
       "      <td>idebate</td>\n",
       "      <td>[{'pids': [1242, 21983, 21984], 'stance_label_...</td>\n",
       "      <td>[culture, health_and_medicine, gender]</td>\n",
       "    </tr>\n",
       "    <tr>\n",
       "      <th>2</th>\n",
       "      <td>943</td>\n",
       "      <td>School Day Should Be Extended</td>\n",
       "      <td>debatewise</td>\n",
       "      <td>[{'pids': [7579], 'stance_label_3': 'SUPPORT',...</td>\n",
       "      <td>[]</td>\n",
       "    </tr>\n",
       "    <tr>\n",
       "      <th>3</th>\n",
       "      <td>944</td>\n",
       "      <td>punishment should fit the criminal</td>\n",
       "      <td>debatewise</td>\n",
       "      <td>[{'pids': [7584, 26958, 26959], 'stance_label_...</td>\n",
       "      <td>[law]</td>\n",
       "    </tr>\n",
       "    <tr>\n",
       "      <th>4</th>\n",
       "      <td>621</td>\n",
       "      <td>A government has the obligation to lessen the ...</td>\n",
       "      <td>debatewise</td>\n",
       "      <td>[{'pids': [5143], 'stance_label_3': 'SUPPORT',...</td>\n",
       "      <td>[politics, economy, society]</td>\n",
       "    </tr>\n",
       "    <tr>\n",
       "      <th>...</th>\n",
       "      <td>...</td>\n",
       "      <td>...</td>\n",
       "      <td>...</td>\n",
       "      <td>...</td>\n",
       "      <td>...</td>\n",
       "    </tr>\n",
       "    <tr>\n",
       "      <th>902</th>\n",
       "      <td>697</td>\n",
       "      <td>Illegal downloaders should be cut off from the...</td>\n",
       "      <td>debatewise</td>\n",
       "      <td>[{'pids': [5788, 25967], 'stance_label_3': 'SU...</td>\n",
       "      <td>[]</td>\n",
       "    </tr>\n",
       "    <tr>\n",
       "      <th>903</th>\n",
       "      <td>10</td>\n",
       "      <td>It is important to use a graduated response to...</td>\n",
       "      <td>idebate</td>\n",
       "      <td>[{'pids': [77, 20917, 20918], 'stance_label_3'...</td>\n",
       "      <td>[science_and_technology, law]</td>\n",
       "    </tr>\n",
       "    <tr>\n",
       "      <th>904</th>\n",
       "      <td>569</td>\n",
       "      <td>The D.A.R.E. program is good for America's kid...</td>\n",
       "      <td>procon</td>\n",
       "      <td>[{'pids': [4313, 24704], 'stance_label_3': 'SU...</td>\n",
       "      <td>[education]</td>\n",
       "    </tr>\n",
       "    <tr>\n",
       "      <th>905</th>\n",
       "      <td>11</td>\n",
       "      <td>Internet access is a human right</td>\n",
       "      <td>idebate</td>\n",
       "      <td>[{'pids': [87, 20933, 20934], 'stance_label_3'...</td>\n",
       "      <td>[digital_freedom, human_rights]</td>\n",
       "    </tr>\n",
       "    <tr>\n",
       "      <th>906</th>\n",
       "      <td>1004</td>\n",
       "      <td>Net Neutrality – All Internet Traffic Should B...</td>\n",
       "      <td>debatewise</td>\n",
       "      <td>[{'pids': [8117], 'stance_label_3': 'SUPPORT',...</td>\n",
       "      <td>[digital_freedom, science_and_technology]</td>\n",
       "    </tr>\n",
       "  </tbody>\n",
       "</table>\n",
       "<p>907 rows × 5 columns</p>\n",
       "</div>"
      ],
      "text/plain": [
       "      cId                                               text      source  \\\n",
       "0     499                Vaccination must be made compulsory     idebate   \n",
       "1     167  Male infant circumcision is tantamount to chil...     idebate   \n",
       "2     943                      School Day Should Be Extended  debatewise   \n",
       "3     944                 punishment should fit the criminal  debatewise   \n",
       "4     621  A government has the obligation to lessen the ...  debatewise   \n",
       "..    ...                                                ...         ...   \n",
       "902   697  Illegal downloaders should be cut off from the...  debatewise   \n",
       "903    10  It is important to use a graduated response to...     idebate   \n",
       "904   569  The D.A.R.E. program is good for America's kid...      procon   \n",
       "905    11                   Internet access is a human right     idebate   \n",
       "906  1004  Net Neutrality – All Internet Traffic Should B...  debatewise   \n",
       "\n",
       "                                          perspectives  \\\n",
       "0    [{'pids': [3695, 24076, 24077], 'stance_label_...   \n",
       "1    [{'pids': [1242, 21983, 21984], 'stance_label_...   \n",
       "2    [{'pids': [7579], 'stance_label_3': 'SUPPORT',...   \n",
       "3    [{'pids': [7584, 26958, 26959], 'stance_label_...   \n",
       "4    [{'pids': [5143], 'stance_label_3': 'SUPPORT',...   \n",
       "..                                                 ...   \n",
       "902  [{'pids': [5788, 25967], 'stance_label_3': 'SU...   \n",
       "903  [{'pids': [77, 20917, 20918], 'stance_label_3'...   \n",
       "904  [{'pids': [4313, 24704], 'stance_label_3': 'SU...   \n",
       "905  [{'pids': [87, 20933, 20934], 'stance_label_3'...   \n",
       "906  [{'pids': [8117], 'stance_label_3': 'SUPPORT',...   \n",
       "\n",
       "                                        topics  \n",
       "0                        [health_and_medicine]  \n",
       "1       [culture, health_and_medicine, gender]  \n",
       "2                                           []  \n",
       "3                                        [law]  \n",
       "4                 [politics, economy, society]  \n",
       "..                                         ...  \n",
       "902                                         []  \n",
       "903              [science_and_technology, law]  \n",
       "904                                [education]  \n",
       "905            [digital_freedom, human_rights]  \n",
       "906  [digital_freedom, science_and_technology]  \n",
       "\n",
       "[907 rows x 5 columns]"
      ]
     },
     "execution_count": 262,
     "metadata": {},
     "output_type": "execute_result"
    }
   ],
   "source": [
    "perspectrum_df"
   ]
  },
  {
   "cell_type": "code",
   "execution_count": 263,
   "metadata": {},
   "outputs": [
    {
     "data": {
      "text/html": [
       "<div>\n",
       "<style scoped>\n",
       "    .dataframe tbody tr th:only-of-type {\n",
       "        vertical-align: middle;\n",
       "    }\n",
       "\n",
       "    .dataframe tbody tr th {\n",
       "        vertical-align: top;\n",
       "    }\n",
       "\n",
       "    .dataframe thead th {\n",
       "        text-align: right;\n",
       "    }\n",
       "</style>\n",
       "<table border=\"1\" class=\"dataframe\">\n",
       "  <thead>\n",
       "    <tr style=\"text-align: right;\">\n",
       "      <th></th>\n",
       "      <th>text</th>\n",
       "      <th>perspective</th>\n",
       "      <th>label</th>\n",
       "      <th>split</th>\n",
       "    </tr>\n",
       "  </thead>\n",
       "  <tbody>\n",
       "    <tr>\n",
       "      <th>0</th>\n",
       "      <td>Vaccination must be made compulsory</td>\n",
       "      <td>It is the state’s duty to protect its community</td>\n",
       "      <td>SUPPORT</td>\n",
       "      <td>train</td>\n",
       "    </tr>\n",
       "    <tr>\n",
       "      <th>1</th>\n",
       "      <td>Vaccination must be made compulsory</td>\n",
       "      <td>The state must keep it's community safe.</td>\n",
       "      <td>SUPPORT</td>\n",
       "      <td>train</td>\n",
       "    </tr>\n",
       "    <tr>\n",
       "      <th>2</th>\n",
       "      <td>Vaccination must be made compulsory</td>\n",
       "      <td>The safety of the community is the state's pri...</td>\n",
       "      <td>SUPPORT</td>\n",
       "      <td>train</td>\n",
       "    </tr>\n",
       "    <tr>\n",
       "      <th>3</th>\n",
       "      <td>Vaccination must be made compulsory</td>\n",
       "      <td>Compulsory vaccination violates the individual...</td>\n",
       "      <td>UNDERMINE</td>\n",
       "      <td>train</td>\n",
       "    </tr>\n",
       "    <tr>\n",
       "      <th>4</th>\n",
       "      <td>Vaccination must be made compulsory</td>\n",
       "      <td>Individuals have the right to refuse vaccinati...</td>\n",
       "      <td>UNDERMINE</td>\n",
       "      <td>train</td>\n",
       "    </tr>\n",
       "  </tbody>\n",
       "</table>\n",
       "</div>"
      ],
      "text/plain": [
       "                                  text  \\\n",
       "0  Vaccination must be made compulsory   \n",
       "1  Vaccination must be made compulsory   \n",
       "2  Vaccination must be made compulsory   \n",
       "3  Vaccination must be made compulsory   \n",
       "4  Vaccination must be made compulsory   \n",
       "\n",
       "                                         perspective      label  split  \n",
       "0   It is the state’s duty to protect its community     SUPPORT  train  \n",
       "1           The state must keep it's community safe.    SUPPORT  train  \n",
       "2  The safety of the community is the state's pri...    SUPPORT  train  \n",
       "3  Compulsory vaccination violates the individual...  UNDERMINE  train  \n",
       "4  Individuals have the right to refuse vaccinati...  UNDERMINE  train  "
      ]
     },
     "execution_count": 263,
     "metadata": {},
     "output_type": "execute_result"
    }
   ],
   "source": [
    "tuples_list = list()\n",
    "errors = 0\n",
    "for index, row in perspectrum_df.iterrows():\n",
    "    \n",
    "    #print(row['perspectives'])\n",
    "    cId = row['cId']\n",
    "    \n",
    "    try:\n",
    "        split = split_df.iloc[cId]['split']\n",
    "    except Exception as e:\n",
    "        split = 'train'\n",
    "        errors += 1\n",
    "    for perspective_group in row['perspectives']:\n",
    "        \n",
    "        label = perspective_group['stance_label_3']\n",
    "        for perspective in perspective_group['pids']:\n",
    "            tuples_list.append((row['text'], perspective_df[perspective_df['pId'] == perspective].iloc[0]['text'],label, split))\n",
    "\n",
    "clean_df = pd.DataFrame.from_records(tuples_list, columns =['text', 'perspective', 'label', 'split'])\n",
    "clean_df.head()\n"
   ]
  },
  {
   "cell_type": "code",
   "execution_count": 264,
   "metadata": {},
   "outputs": [
    {
     "data": {
      "text/plain": [
       "<matplotlib.axes._subplots.AxesSubplot at 0x14fefe3ba60>"
      ]
     },
     "execution_count": 264,
     "metadata": {},
     "output_type": "execute_result"
    },
    {
     "data": {
      "image/png": "[encoded data removed]",
      "text/plain": [
       "<Figure size 432x288 with 1 Axes>"
      ]
     },
     "metadata": {
      "needs_background": "light"
     },
     "output_type": "display_data"
    }
   ],
   "source": [
    "clean_df.split.hist()"
   ]
  },
  {
   "cell_type": "code",
   "execution_count": 265,
   "metadata": {},
   "outputs": [
    {
     "data": {
      "text/plain": [
       "<matplotlib.axes._subplots.AxesSubplot at 0x14f8b5baa30>"
      ]
     },
     "execution_count": 265,
     "metadata": {},
     "output_type": "execute_result"
    },
    {
     "data": {
      "image/png": "[encoded data removed]",
      "text/plain": [
       "<Figure size 432x288 with 1 Axes>"
      ]
     },
     "metadata": {
      "needs_background": "light"
     },
     "output_type": "display_data"
    }
   ],
   "source": [
    "train_data = clean_df[clean_df['split'] == 'train'][['text', 'perspective', 'label']]\n",
    "train_data.label.hist()"
   ]
  },
  {
   "cell_type": "code",
   "execution_count": 267,
   "metadata": {},
   "outputs": [
    {
     "data": {
      "text/html": [
       "<div>\n",
       "<style scoped>\n",
       "    .dataframe tbody tr th:only-of-type {\n",
       "        vertical-align: middle;\n",
       "    }\n",
       "\n",
       "    .dataframe tbody tr th {\n",
       "        vertical-align: top;\n",
       "    }\n",
       "\n",
       "    .dataframe thead th {\n",
       "        text-align: right;\n",
       "    }\n",
       "</style>\n",
       "<table border=\"1\" class=\"dataframe\">\n",
       "  <thead>\n",
       "    <tr style=\"text-align: right;\">\n",
       "      <th></th>\n",
       "      <th>text</th>\n",
       "      <th>perspective</th>\n",
       "      <th>label</th>\n",
       "    </tr>\n",
       "  </thead>\n",
       "  <tbody>\n",
       "    <tr>\n",
       "      <th>0</th>\n",
       "      <td>Vaccination must be made compulsory</td>\n",
       "      <td>It is the state’s duty to protect its community</td>\n",
       "      <td>SUPPORT</td>\n",
       "    </tr>\n",
       "    <tr>\n",
       "      <th>1</th>\n",
       "      <td>Vaccination must be made compulsory</td>\n",
       "      <td>The state must keep it's community safe.</td>\n",
       "      <td>SUPPORT</td>\n",
       "    </tr>\n",
       "    <tr>\n",
       "      <th>2</th>\n",
       "      <td>Vaccination must be made compulsory</td>\n",
       "      <td>The safety of the community is the state's pri...</td>\n",
       "      <td>SUPPORT</td>\n",
       "    </tr>\n",
       "    <tr>\n",
       "      <th>3</th>\n",
       "      <td>Vaccination must be made compulsory</td>\n",
       "      <td>Compulsory vaccination violates the individual...</td>\n",
       "      <td>UNDERMINE</td>\n",
       "    </tr>\n",
       "    <tr>\n",
       "      <th>4</th>\n",
       "      <td>Vaccination must be made compulsory</td>\n",
       "      <td>Individuals have the right to refuse vaccinati...</td>\n",
       "      <td>UNDERMINE</td>\n",
       "    </tr>\n",
       "  </tbody>\n",
       "</table>\n",
       "</div>"
      ],
      "text/plain": [
       "                                  text  \\\n",
       "0  Vaccination must be made compulsory   \n",
       "1  Vaccination must be made compulsory   \n",
       "2  Vaccination must be made compulsory   \n",
       "3  Vaccination must be made compulsory   \n",
       "4  Vaccination must be made compulsory   \n",
       "\n",
       "                                         perspective      label  \n",
       "0   It is the state’s duty to protect its community     SUPPORT  \n",
       "1           The state must keep it's community safe.    SUPPORT  \n",
       "2  The safety of the community is the state's pri...    SUPPORT  \n",
       "3  Compulsory vaccination violates the individual...  UNDERMINE  \n",
       "4  Individuals have the right to refuse vaccinati...  UNDERMINE  "
      ]
     },
     "execution_count": 267,
     "metadata": {},
     "output_type": "execute_result"
    }
   ],
   "source": [
    "train_data.head()"
   ]
  },
  {
   "cell_type": "code",
   "execution_count": 268,
   "metadata": {},
   "outputs": [
    {
     "data": {
      "text/html": [
       "<div>\n",
       "<style scoped>\n",
       "    .dataframe tbody tr th:only-of-type {\n",
       "        vertical-align: middle;\n",
       "    }\n",
       "\n",
       "    .dataframe tbody tr th {\n",
       "        vertical-align: top;\n",
       "    }\n",
       "\n",
       "    .dataframe thead th {\n",
       "        text-align: right;\n",
       "    }\n",
       "</style>\n",
       "<table border=\"1\" class=\"dataframe\">\n",
       "  <thead>\n",
       "    <tr style=\"text-align: right;\">\n",
       "      <th></th>\n",
       "      <th>text</th>\n",
       "      <th>perspective</th>\n",
       "      <th>label</th>\n",
       "    </tr>\n",
       "  </thead>\n",
       "  <tbody>\n",
       "    <tr>\n",
       "      <th>16</th>\n",
       "      <td>Male infant circumcision is tantamount to chil...</td>\n",
       "      <td>Parents have the right to use their best judgm...</td>\n",
       "      <td>UNDERMINE</td>\n",
       "    </tr>\n",
       "    <tr>\n",
       "      <th>17</th>\n",
       "      <td>Male infant circumcision is tantamount to chil...</td>\n",
       "      <td>Parents know what best for thier child</td>\n",
       "      <td>UNDERMINE</td>\n",
       "    </tr>\n",
       "    <tr>\n",
       "      <th>18</th>\n",
       "      <td>Male infant circumcision is tantamount to chil...</td>\n",
       "      <td>Parents have the right to make the decisions f...</td>\n",
       "      <td>UNDERMINE</td>\n",
       "    </tr>\n",
       "    <tr>\n",
       "      <th>44</th>\n",
       "      <td>All patents should be removed on anti-retrovir...</td>\n",
       "      <td>Patents on ARVs prevent drug companies from co...</td>\n",
       "      <td>SUPPORT</td>\n",
       "    </tr>\n",
       "    <tr>\n",
       "      <th>168</th>\n",
       "      <td>The prevalence of ‘African mercenaries’ is dec...</td>\n",
       "      <td>Decreased Conflict and the end of the mercenar...</td>\n",
       "      <td>SUPPORT</td>\n",
       "    </tr>\n",
       "  </tbody>\n",
       "</table>\n",
       "</div>"
      ],
      "text/plain": [
       "                                                  text  \\\n",
       "16   Male infant circumcision is tantamount to chil...   \n",
       "17   Male infant circumcision is tantamount to chil...   \n",
       "18   Male infant circumcision is tantamount to chil...   \n",
       "44   All patents should be removed on anti-retrovir...   \n",
       "168  The prevalence of ‘African mercenaries’ is dec...   \n",
       "\n",
       "                                           perspective      label  \n",
       "16   Parents have the right to use their best judgm...  UNDERMINE  \n",
       "17             Parents know what best for thier child   UNDERMINE  \n",
       "18   Parents have the right to make the decisions f...  UNDERMINE  \n",
       "44   Patents on ARVs prevent drug companies from co...    SUPPORT  \n",
       "168  Decreased Conflict and the end of the mercenar...    SUPPORT  "
      ]
     },
     "execution_count": 268,
     "metadata": {},
     "output_type": "execute_result"
    }
   ],
   "source": [
    "test_data = clean_df[clean_df['split'] == 'test'][['text', 'perspective', 'label']]\n",
    "test_data.head()"
   ]
  },
  {
   "cell_type": "code",
   "execution_count": 269,
   "metadata": {},
   "outputs": [],
   "source": [
    "train_data.to_csv('cstance_train.csv', sep=',')"
   ]
  },
  {
   "cell_type": "code",
   "execution_count": 270,
   "metadata": {},
   "outputs": [
    {
     "data": {
      "text/plain": [
       "<matplotlib.axes._subplots.AxesSubplot at 0x14f8d203400>"
      ]
     },
     "execution_count": 270,
     "metadata": {},
     "output_type": "execute_result"
    },
    {
     "data": {
      "image/png": "[encoded data removed]",
      "text/plain": [
       "<Figure size 432x288 with 1 Axes>"
      ]
     },
     "metadata": {
      "needs_background": "light"
     },
     "output_type": "display_data"
    }
   ],
   "source": [
    "test_data.label.hist()"
   ]
  },
  {
   "cell_type": "code",
   "execution_count": 271,
   "metadata": {},
   "outputs": [],
   "source": [
    "test_data.to_csv('cstance_test.csv', sep=',')"
   ]
  },
  {
   "cell_type": "code",
   "execution_count": 272,
   "metadata": {},
   "outputs": [
    {
     "data": {
      "text/html": [
       "<div>\n",
       "<style scoped>\n",
       "    .dataframe tbody tr th:only-of-type {\n",
       "        vertical-align: middle;\n",
       "    }\n",
       "\n",
       "    .dataframe tbody tr th {\n",
       "        vertical-align: top;\n",
       "    }\n",
       "\n",
       "    .dataframe thead th {\n",
       "        text-align: right;\n",
       "    }\n",
       "</style>\n",
       "<table border=\"1\" class=\"dataframe\">\n",
       "  <thead>\n",
       "    <tr style=\"text-align: right;\">\n",
       "      <th></th>\n",
       "      <th>text</th>\n",
       "      <th>perspective</th>\n",
       "      <th>label</th>\n",
       "    </tr>\n",
       "  </thead>\n",
       "  <tbody>\n",
       "    <tr>\n",
       "      <th>30</th>\n",
       "      <td>A government has the obligation to lessen the ...</td>\n",
       "      <td>True individual freedom cannot exist without e...</td>\n",
       "      <td>SUPPORT</td>\n",
       "    </tr>\n",
       "    <tr>\n",
       "      <th>31</th>\n",
       "      <td>A government has the obligation to lessen the ...</td>\n",
       "      <td>The wealth gap does not allow for equality bet...</td>\n",
       "      <td>SUPPORT</td>\n",
       "    </tr>\n",
       "    <tr>\n",
       "      <th>32</th>\n",
       "      <td>A government has the obligation to lessen the ...</td>\n",
       "      <td>Society gives an unfair advantage to certain g...</td>\n",
       "      <td>SUPPORT</td>\n",
       "    </tr>\n",
       "    <tr>\n",
       "      <th>33</th>\n",
       "      <td>A government has the obligation to lessen the ...</td>\n",
       "      <td>Wealth gap undermines equality of opportunity;...</td>\n",
       "      <td>SUPPORT</td>\n",
       "    </tr>\n",
       "    <tr>\n",
       "      <th>34</th>\n",
       "      <td>A government has the obligation to lessen the ...</td>\n",
       "      <td>The Rich Poor Gap Silences the Political Voice...</td>\n",
       "      <td>SUPPORT</td>\n",
       "    </tr>\n",
       "  </tbody>\n",
       "</table>\n",
       "</div>"
      ],
      "text/plain": [
       "                                                 text  \\\n",
       "30  A government has the obligation to lessen the ...   \n",
       "31  A government has the obligation to lessen the ...   \n",
       "32  A government has the obligation to lessen the ...   \n",
       "33  A government has the obligation to lessen the ...   \n",
       "34  A government has the obligation to lessen the ...   \n",
       "\n",
       "                                          perspective    label  \n",
       "30  True individual freedom cannot exist without e...  SUPPORT  \n",
       "31  The wealth gap does not allow for equality bet...  SUPPORT  \n",
       "32  Society gives an unfair advantage to certain g...  SUPPORT  \n",
       "33  Wealth gap undermines equality of opportunity;...  SUPPORT  \n",
       "34  The Rich Poor Gap Silences the Political Voice...  SUPPORT  "
      ]
     },
     "execution_count": 272,
     "metadata": {},
     "output_type": "execute_result"
    }
   ],
   "source": [
    "dev_data = clean_df[clean_df['split'] == 'dev'][['text', 'perspective', 'label']]\n",
    "dev_data.head()"
   ]
  },
  {
   "cell_type": "code",
   "execution_count": 255,
   "metadata": {},
   "outputs": [
    {
     "data": {
      "text/plain": [
       "<matplotlib.axes._subplots.AxesSubplot at 0x14f8d191490>"
      ]
     },
     "execution_count": 255,
     "metadata": {},
     "output_type": "execute_result"
    },
    {
     "data": {
      "image/png": "[encoded data removed]",
      "text/plain": [
       "<Figure size 432x288 with 1 Axes>"
      ]
     },
     "metadata": {
      "needs_background": "light"
     },
     "output_type": "display_data"
    }
   ],
   "source": [
    "dev_data['label'].hist()"
   ]
  },
  {
   "cell_type": "code",
   "execution_count": 273,
   "metadata": {},
   "outputs": [],
   "source": [
    "dev_data.to_csv('cstance_dev.csv', sep=',')"
   ]
  }
 ],
 "metadata": {
  "kernelspec": {
   "display_name": "Python 3",
   "language": "python",
   "name": "python3"
  },
  "language_info": {
   "codemirror_mode": {
    "name": "ipython",
    "version": 3
   },
   "file_extension": ".py",
   "mimetype": "text/x-python",
   "name": "python",
   "nbconvert_exporter": "python",
   "pygments_lexer": "ipython3",
   "version": "3.8.3"
  }
 },
 "nbformat": 4,
 "nbformat_minor": 4
}
