{
 "cells": [
  {
   "cell_type": "code",
   "execution_count": 1,
   "id": "01282617-f8ba-49f6-a594-3566abf95229",
   "metadata": {},
   "outputs": [],
   "source": [
    "import spacy\n",
    "from prep import get_paper_train_dev_test\n",
    "import pandas as pd\n",
    "from tqdm.notebook import tqdm "
   ]
  },
  {
   "cell_type": "code",
   "execution_count": 2,
   "id": "80ab16d2-65f8-4fe3-8ece-52bd6f4ebeca",
   "metadata": {},
   "outputs": [
    {
     "name": "stdout",
     "output_type": "stream",
     "text": [
      "Collecting en-core-web-trf==3.1.0\n",
      "  Downloading https://github.com/explosion/spacy-models/releases/download/en_core_web_trf-3.1.0/en_core_web_trf-3.1.0-py3-none-any.whl (460.2 MB)\n",
      "\u001b[K     |████████████████████████████████| 460.2 MB 27 kB/s s eta 0:00:012     |███████████████████████████▎    | 392.5 MB 33.2 MB/s eta 0:00:03\n",
      "\u001b[?25hRequirement already satisfied: spacy<3.2.0,>=3.1.0 in /home/ido/anaconda3/envs/trans/lib/python3.8/site-packages (from en-core-web-trf==3.1.0) (3.1.2)\n",
      "Requirement already satisfied: spacy-transformers<1.1.0,>=1.0.3 in /home/ido/anaconda3/envs/trans/lib/python3.8/site-packages (from en-core-web-trf==3.1.0) (1.0.6)\n",
      "Requirement already satisfied: tqdm<5.0.0,>=4.38.0 in /home/ido/anaconda3/envs/trans/lib/python3.8/site-packages (from spacy<3.2.0,>=3.1.0->en-core-web-trf==3.1.0) (4.62.0)\n",
      "Requirement already satisfied: catalogue<2.1.0,>=2.0.4 in /home/ido/anaconda3/envs/trans/lib/python3.8/site-packages (from spacy<3.2.0,>=3.1.0->en-core-web-trf==3.1.0) (2.0.6)\n",
      "Requirement already satisfied: pydantic!=1.8,!=1.8.1,<1.9.0,>=1.7.4 in /home/ido/anaconda3/envs/trans/lib/python3.8/site-packages (from spacy<3.2.0,>=3.1.0->en-core-web-trf==3.1.0) (1.8.2)\n",
      "Requirement already satisfied: numpy>=1.15.0 in /home/ido/anaconda3/envs/trans/lib/python3.8/site-packages (from spacy<3.2.0,>=3.1.0->en-core-web-trf==3.1.0) (1.21.1)\n",
      "Requirement already satisfied: cymem<2.1.0,>=2.0.2 in /home/ido/anaconda3/envs/trans/lib/python3.8/site-packages (from spacy<3.2.0,>=3.1.0->en-core-web-trf==3.1.0) (2.0.5)\n",
      "Requirement already satisfied: preshed<3.1.0,>=3.0.2 in /home/ido/anaconda3/envs/trans/lib/python3.8/site-packages (from spacy<3.2.0,>=3.1.0->en-core-web-trf==3.1.0) (3.0.5)\n",
      "Requirement already satisfied: wasabi<1.1.0,>=0.8.1 in /home/ido/anaconda3/envs/trans/lib/python3.8/site-packages (from spacy<3.2.0,>=3.1.0->en-core-web-trf==3.1.0) (0.8.2)\n",
      "Requirement already satisfied: srsly<3.0.0,>=2.4.1 in /home/ido/anaconda3/envs/trans/lib/python3.8/site-packages (from spacy<3.2.0,>=3.1.0->en-core-web-trf==3.1.0) (2.4.1)\n",
      "Requirement already satisfied: typer<0.4.0,>=0.3.0 in /home/ido/anaconda3/envs/trans/lib/python3.8/site-packages (from spacy<3.2.0,>=3.1.0->en-core-web-trf==3.1.0) (0.3.2)\n",
      "Requirement already satisfied: requests<3.0.0,>=2.13.0 in /home/ido/anaconda3/envs/trans/lib/python3.8/site-packages (from spacy<3.2.0,>=3.1.0->en-core-web-trf==3.1.0) (2.26.0)\n",
      "Requirement already satisfied: setuptools in /home/ido/anaconda3/envs/trans/lib/python3.8/site-packages (from spacy<3.2.0,>=3.1.0->en-core-web-trf==3.1.0) (49.6.0.post20210108)\n",
      "Requirement already satisfied: spacy-legacy<3.1.0,>=3.0.7 in /home/ido/anaconda3/envs/trans/lib/python3.8/site-packages (from spacy<3.2.0,>=3.1.0->en-core-web-trf==3.1.0) (3.0.8)\n",
      "Requirement already satisfied: jinja2 in /home/ido/anaconda3/envs/trans/lib/python3.8/site-packages (from spacy<3.2.0,>=3.1.0->en-core-web-trf==3.1.0) (3.0.1)\n",
      "Requirement already satisfied: murmurhash<1.1.0,>=0.28.0 in /home/ido/anaconda3/envs/trans/lib/python3.8/site-packages (from spacy<3.2.0,>=3.1.0->en-core-web-trf==3.1.0) (1.0.5)\n",
      "Requirement already satisfied: thinc<8.1.0,>=8.0.8 in /home/ido/anaconda3/envs/trans/lib/python3.8/site-packages (from spacy<3.2.0,>=3.1.0->en-core-web-trf==3.1.0) (8.0.9)\n",
      "Requirement already satisfied: pathy>=0.3.5 in /home/ido/anaconda3/envs/trans/lib/python3.8/site-packages (from spacy<3.2.0,>=3.1.0->en-core-web-trf==3.1.0) (0.6.0)\n",
      "Requirement already satisfied: blis<0.8.0,>=0.4.0 in /home/ido/anaconda3/envs/trans/lib/python3.8/site-packages (from spacy<3.2.0,>=3.1.0->en-core-web-trf==3.1.0) (0.7.4)\n",
      "Requirement already satisfied: packaging>=20.0 in /home/ido/anaconda3/envs/trans/lib/python3.8/site-packages (from spacy<3.2.0,>=3.1.0->en-core-web-trf==3.1.0) (21.0)\n",
      "Requirement already satisfied: pyparsing>=2.0.2 in /home/ido/anaconda3/envs/trans/lib/python3.8/site-packages (from packaging>=20.0->spacy<3.2.0,>=3.1.0->en-core-web-trf==3.1.0) (2.4.7)\n",
      "Requirement already satisfied: smart-open<6.0.0,>=5.0.0 in /home/ido/anaconda3/envs/trans/lib/python3.8/site-packages (from pathy>=0.3.5->spacy<3.2.0,>=3.1.0->en-core-web-trf==3.1.0) (5.2.1)\n",
      "Requirement already satisfied: typing-extensions>=3.7.4.3 in /home/ido/anaconda3/envs/trans/lib/python3.8/site-packages (from pydantic!=1.8,!=1.8.1,<1.9.0,>=1.7.4->spacy<3.2.0,>=3.1.0->en-core-web-trf==3.1.0) (3.10.0.0)\n",
      "Requirement already satisfied: urllib3<1.27,>=1.21.1 in /home/ido/anaconda3/envs/trans/lib/python3.8/site-packages (from requests<3.0.0,>=2.13.0->spacy<3.2.0,>=3.1.0->en-core-web-trf==3.1.0) (1.26.6)\n",
      "Requirement already satisfied: certifi>=2017.4.17 in /home/ido/anaconda3/envs/trans/lib/python3.8/site-packages (from requests<3.0.0,>=2.13.0->spacy<3.2.0,>=3.1.0->en-core-web-trf==3.1.0) (2021.5.30)\n",
      "Requirement already satisfied: idna<4,>=2.5 in /home/ido/anaconda3/envs/trans/lib/python3.8/site-packages (from requests<3.0.0,>=2.13.0->spacy<3.2.0,>=3.1.0->en-core-web-trf==3.1.0) (3.2)\n",
      "Requirement already satisfied: charset-normalizer~=2.0.0 in /home/ido/anaconda3/envs/trans/lib/python3.8/site-packages (from requests<3.0.0,>=2.13.0->spacy<3.2.0,>=3.1.0->en-core-web-trf==3.1.0) (2.0.4)\n",
      "Requirement already satisfied: transformers<4.10.0,>=3.4.0 in /home/ido/anaconda3/envs/trans/lib/python3.8/site-packages (from spacy-transformers<1.1.0,>=1.0.3->en-core-web-trf==3.1.0) (4.9.1)\n",
      "Requirement already satisfied: torch>=1.5.0 in /home/ido/anaconda3/envs/trans/lib/python3.8/site-packages (from spacy-transformers<1.1.0,>=1.0.3->en-core-web-trf==3.1.0) (1.9.0)\n",
      "Requirement already satisfied: spacy-alignments<1.0.0,>=0.7.2 in /home/ido/anaconda3/envs/trans/lib/python3.8/site-packages (from spacy-transformers<1.1.0,>=1.0.3->en-core-web-trf==3.1.0) (0.8.3)\n",
      "Requirement already satisfied: filelock in /home/ido/anaconda3/envs/trans/lib/python3.8/site-packages (from transformers<4.10.0,>=3.4.0->spacy-transformers<1.1.0,>=1.0.3->en-core-web-trf==3.1.0) (3.0.12)\n",
      "Requirement already satisfied: sacremoses in /home/ido/anaconda3/envs/trans/lib/python3.8/site-packages (from transformers<4.10.0,>=3.4.0->spacy-transformers<1.1.0,>=1.0.3->en-core-web-trf==3.1.0) (0.0.45)\n",
      "Requirement already satisfied: regex!=2019.12.17 in /home/ido/anaconda3/envs/trans/lib/python3.8/site-packages (from transformers<4.10.0,>=3.4.0->spacy-transformers<1.1.0,>=1.0.3->en-core-web-trf==3.1.0) (2021.7.6)\n",
      "Requirement already satisfied: huggingface-hub==0.0.12 in /home/ido/anaconda3/envs/trans/lib/python3.8/site-packages (from transformers<4.10.0,>=3.4.0->spacy-transformers<1.1.0,>=1.0.3->en-core-web-trf==3.1.0) (0.0.12)\n",
      "Requirement already satisfied: tokenizers<0.11,>=0.10.1 in /home/ido/anaconda3/envs/trans/lib/python3.8/site-packages (from transformers<4.10.0,>=3.4.0->spacy-transformers<1.1.0,>=1.0.3->en-core-web-trf==3.1.0) (0.10.3)\n",
      "Requirement already satisfied: pyyaml>=5.1 in /home/ido/anaconda3/envs/trans/lib/python3.8/site-packages (from transformers<4.10.0,>=3.4.0->spacy-transformers<1.1.0,>=1.0.3->en-core-web-trf==3.1.0) (5.4.1)\n",
      "Requirement already satisfied: click<7.2.0,>=7.1.1 in /home/ido/anaconda3/envs/trans/lib/python3.8/site-packages (from typer<0.4.0,>=0.3.0->spacy<3.2.0,>=3.1.0->en-core-web-trf==3.1.0) (7.1.2)\n",
      "Requirement already satisfied: MarkupSafe>=2.0 in /home/ido/anaconda3/envs/trans/lib/python3.8/site-packages (from jinja2->spacy<3.2.0,>=3.1.0->en-core-web-trf==3.1.0) (2.0.1)\n",
      "Requirement already satisfied: joblib in /home/ido/anaconda3/envs/trans/lib/python3.8/site-packages (from sacremoses->transformers<4.10.0,>=3.4.0->spacy-transformers<1.1.0,>=1.0.3->en-core-web-trf==3.1.0) (1.0.1)\n",
      "Requirement already satisfied: six in /home/ido/anaconda3/envs/trans/lib/python3.8/site-packages (from sacremoses->transformers<4.10.0,>=3.4.0->spacy-transformers<1.1.0,>=1.0.3->en-core-web-trf==3.1.0) (1.16.0)\n",
      "\u001b[38;5;2m✔ Download and installation successful\u001b[0m\n",
      "You can now load the package via spacy.load('en_core_web_trf')\n"
     ]
    }
   ],
   "source": [
    "! python -m spacy download en_core_web_trf"
   ]
  },
  {
   "cell_type": "code",
   "execution_count": 3,
   "id": "83797846-a340-477d-8333-93e4e66302cd",
   "metadata": {},
   "outputs": [
    {
     "name": "stdout",
     "output_type": "stream",
     "text": [
      "Requirement already satisfied: spacy[transformers] in /home/ido/anaconda3/envs/trans/lib/python3.8/site-packages (3.1.2)\n",
      "Requirement already satisfied: thinc<8.1.0,>=8.0.8 in /home/ido/anaconda3/envs/trans/lib/python3.8/site-packages (from spacy[transformers]) (8.0.9)\n",
      "Requirement already satisfied: numpy>=1.15.0 in /home/ido/anaconda3/envs/trans/lib/python3.8/site-packages (from spacy[transformers]) (1.21.1)\n",
      "Requirement already satisfied: cymem<2.1.0,>=2.0.2 in /home/ido/anaconda3/envs/trans/lib/python3.8/site-packages (from spacy[transformers]) (2.0.5)\n",
      "Requirement already satisfied: tqdm<5.0.0,>=4.38.0 in /home/ido/anaconda3/envs/trans/lib/python3.8/site-packages (from spacy[transformers]) (4.62.0)\n",
      "Requirement already satisfied: requests<3.0.0,>=2.13.0 in /home/ido/anaconda3/envs/trans/lib/python3.8/site-packages (from spacy[transformers]) (2.26.0)\n",
      "Requirement already satisfied: typer<0.4.0,>=0.3.0 in /home/ido/anaconda3/envs/trans/lib/python3.8/site-packages (from spacy[transformers]) (0.3.2)\n",
      "Requirement already satisfied: packaging>=20.0 in /home/ido/anaconda3/envs/trans/lib/python3.8/site-packages (from spacy[transformers]) (21.0)\n",
      "Requirement already satisfied: srsly<3.0.0,>=2.4.1 in /home/ido/anaconda3/envs/trans/lib/python3.8/site-packages (from spacy[transformers]) (2.4.1)\n",
      "Requirement already satisfied: catalogue<2.1.0,>=2.0.4 in /home/ido/anaconda3/envs/trans/lib/python3.8/site-packages (from spacy[transformers]) (2.0.6)\n",
      "Requirement already satisfied: pathy>=0.3.5 in /home/ido/anaconda3/envs/trans/lib/python3.8/site-packages (from spacy[transformers]) (0.6.0)\n",
      "Requirement already satisfied: spacy-legacy<3.1.0,>=3.0.7 in /home/ido/anaconda3/envs/trans/lib/python3.8/site-packages (from spacy[transformers]) (3.0.8)\n",
      "Requirement already satisfied: preshed<3.1.0,>=3.0.2 in /home/ido/anaconda3/envs/trans/lib/python3.8/site-packages (from spacy[transformers]) (3.0.5)\n",
      "Requirement already satisfied: murmurhash<1.1.0,>=0.28.0 in /home/ido/anaconda3/envs/trans/lib/python3.8/site-packages (from spacy[transformers]) (1.0.5)\n",
      "Requirement already satisfied: pydantic!=1.8,!=1.8.1,<1.9.0,>=1.7.4 in /home/ido/anaconda3/envs/trans/lib/python3.8/site-packages (from spacy[transformers]) (1.8.2)\n",
      "Requirement already satisfied: jinja2 in /home/ido/anaconda3/envs/trans/lib/python3.8/site-packages (from spacy[transformers]) (3.0.1)\n",
      "Requirement already satisfied: setuptools in /home/ido/anaconda3/envs/trans/lib/python3.8/site-packages (from spacy[transformers]) (49.6.0.post20210108)\n",
      "Requirement already satisfied: wasabi<1.1.0,>=0.8.1 in /home/ido/anaconda3/envs/trans/lib/python3.8/site-packages (from spacy[transformers]) (0.8.2)\n",
      "Requirement already satisfied: blis<0.8.0,>=0.4.0 in /home/ido/anaconda3/envs/trans/lib/python3.8/site-packages (from spacy[transformers]) (0.7.4)\n",
      "Requirement already satisfied: spacy-transformers<1.1.0,>=1.0.1 in /home/ido/anaconda3/envs/trans/lib/python3.8/site-packages (from spacy[transformers]) (1.0.6)\n",
      "Requirement already satisfied: pyparsing>=2.0.2 in /home/ido/anaconda3/envs/trans/lib/python3.8/site-packages (from packaging>=20.0->spacy[transformers]) (2.4.7)\n",
      "Requirement already satisfied: smart-open<6.0.0,>=5.0.0 in /home/ido/anaconda3/envs/trans/lib/python3.8/site-packages (from pathy>=0.3.5->spacy[transformers]) (5.2.1)\n",
      "Requirement already satisfied: typing-extensions>=3.7.4.3 in /home/ido/anaconda3/envs/trans/lib/python3.8/site-packages (from pydantic!=1.8,!=1.8.1,<1.9.0,>=1.7.4->spacy[transformers]) (3.10.0.0)\n",
      "Requirement already satisfied: charset-normalizer~=2.0.0 in /home/ido/anaconda3/envs/trans/lib/python3.8/site-packages (from requests<3.0.0,>=2.13.0->spacy[transformers]) (2.0.4)\n",
      "Requirement already satisfied: certifi>=2017.4.17 in /home/ido/anaconda3/envs/trans/lib/python3.8/site-packages (from requests<3.0.0,>=2.13.0->spacy[transformers]) (2021.5.30)\n",
      "Requirement already satisfied: idna<4,>=2.5 in /home/ido/anaconda3/envs/trans/lib/python3.8/site-packages (from requests<3.0.0,>=2.13.0->spacy[transformers]) (3.2)\n",
      "Requirement already satisfied: urllib3<1.27,>=1.21.1 in /home/ido/anaconda3/envs/trans/lib/python3.8/site-packages (from requests<3.0.0,>=2.13.0->spacy[transformers]) (1.26.6)\n",
      "Requirement already satisfied: torch>=1.5.0 in /home/ido/anaconda3/envs/trans/lib/python3.8/site-packages (from spacy-transformers<1.1.0,>=1.0.1->spacy[transformers]) (1.9.0)\n",
      "Requirement already satisfied: spacy-alignments<1.0.0,>=0.7.2 in /home/ido/anaconda3/envs/trans/lib/python3.8/site-packages (from spacy-transformers<1.1.0,>=1.0.1->spacy[transformers]) (0.8.3)\n",
      "Requirement already satisfied: transformers<4.10.0,>=3.4.0 in /home/ido/anaconda3/envs/trans/lib/python3.8/site-packages (from spacy-transformers<1.1.0,>=1.0.1->spacy[transformers]) (4.9.1)\n",
      "Requirement already satisfied: filelock in /home/ido/anaconda3/envs/trans/lib/python3.8/site-packages (from transformers<4.10.0,>=3.4.0->spacy-transformers<1.1.0,>=1.0.1->spacy[transformers]) (3.0.12)\n",
      "Requirement already satisfied: tokenizers<0.11,>=0.10.1 in /home/ido/anaconda3/envs/trans/lib/python3.8/site-packages (from transformers<4.10.0,>=3.4.0->spacy-transformers<1.1.0,>=1.0.1->spacy[transformers]) (0.10.3)\n",
      "Requirement already satisfied: sacremoses in /home/ido/anaconda3/envs/trans/lib/python3.8/site-packages (from transformers<4.10.0,>=3.4.0->spacy-transformers<1.1.0,>=1.0.1->spacy[transformers]) (0.0.45)\n",
      "Requirement already satisfied: pyyaml>=5.1 in /home/ido/anaconda3/envs/trans/lib/python3.8/site-packages (from transformers<4.10.0,>=3.4.0->spacy-transformers<1.1.0,>=1.0.1->spacy[transformers]) (5.4.1)\n",
      "Requirement already satisfied: huggingface-hub==0.0.12 in /home/ido/anaconda3/envs/trans/lib/python3.8/site-packages (from transformers<4.10.0,>=3.4.0->spacy-transformers<1.1.0,>=1.0.1->spacy[transformers]) (0.0.12)\n",
      "Requirement already satisfied: regex!=2019.12.17 in /home/ido/anaconda3/envs/trans/lib/python3.8/site-packages (from transformers<4.10.0,>=3.4.0->spacy-transformers<1.1.0,>=1.0.1->spacy[transformers]) (2021.7.6)\n",
      "Requirement already satisfied: click<7.2.0,>=7.1.1 in /home/ido/anaconda3/envs/trans/lib/python3.8/site-packages (from typer<0.4.0,>=0.3.0->spacy[transformers]) (7.1.2)\n",
      "Requirement already satisfied: MarkupSafe>=2.0 in /home/ido/anaconda3/envs/trans/lib/python3.8/site-packages (from jinja2->spacy[transformers]) (2.0.1)\n",
      "Requirement already satisfied: joblib in /home/ido/anaconda3/envs/trans/lib/python3.8/site-packages (from sacremoses->transformers<4.10.0,>=3.4.0->spacy-transformers<1.1.0,>=1.0.1->spacy[transformers]) (1.0.1)\n",
      "Requirement already satisfied: six in /home/ido/anaconda3/envs/trans/lib/python3.8/site-packages (from sacremoses->transformers<4.10.0,>=3.4.0->spacy-transformers<1.1.0,>=1.0.1->spacy[transformers]) (1.16.0)\n"
     ]
    }
   ],
   "source": [
    "!pip install spacy[transformers]"
   ]
  },
  {
   "cell_type": "code",
   "execution_count": 4,
   "id": "dd292ce0-d2c6-45a7-a875-02003efb3228",
   "metadata": {},
   "outputs": [],
   "source": [
    "train, dev, test = get_paper_train_dev_test()"
   ]
  },
  {
   "cell_type": "code",
   "execution_count": 5,
   "id": "3ce320af-adf5-46d1-9f09-cd1a19849ae3",
   "metadata": {},
   "outputs": [
    {
     "data": {
      "text/html": [
       "<div>\n",
       "<style scoped>\n",
       "    .dataframe tbody tr th:only-of-type {\n",
       "        vertical-align: middle;\n",
       "    }\n",
       "\n",
       "    .dataframe tbody tr th {\n",
       "        vertical-align: top;\n",
       "    }\n",
       "\n",
       "    .dataframe thead th {\n",
       "        text-align: right;\n",
       "    }\n",
       "</style>\n",
       "<table border=\"1\" class=\"dataframe\">\n",
       "  <thead>\n",
       "    <tr style=\"text-align: right;\">\n",
       "      <th></th>\n",
       "      <th>index</th>\n",
       "      <th>text</th>\n",
       "      <th>perspective</th>\n",
       "      <th>stance_label_3</th>\n",
       "    </tr>\n",
       "  </thead>\n",
       "  <tbody>\n",
       "    <tr>\n",
       "      <th>0</th>\n",
       "      <td>0</td>\n",
       "      <td>Male infant circumcision is tantamount to chil...</td>\n",
       "      <td>Parents have the right to use their best judgm...</td>\n",
       "      <td>refutes</td>\n",
       "    </tr>\n",
       "    <tr>\n",
       "      <th>1</th>\n",
       "      <td>1</td>\n",
       "      <td>Male infant circumcision is tantamount to chil...</td>\n",
       "      <td>Parents know what best for thier child</td>\n",
       "      <td>refutes</td>\n",
       "    </tr>\n",
       "    <tr>\n",
       "      <th>2</th>\n",
       "      <td>2</td>\n",
       "      <td>Male infant circumcision is tantamount to chil...</td>\n",
       "      <td>Parents have the right to make the decisions f...</td>\n",
       "      <td>refutes</td>\n",
       "    </tr>\n",
       "    <tr>\n",
       "      <th>3</th>\n",
       "      <td>3</td>\n",
       "      <td>punishment should fit the criminal</td>\n",
       "      <td>It will cause less re-offenders.</td>\n",
       "      <td>supports</td>\n",
       "    </tr>\n",
       "    <tr>\n",
       "      <th>4</th>\n",
       "      <td>4</td>\n",
       "      <td>punishment should fit the criminal</td>\n",
       "      <td>Adequate punishment reduces future offenses.</td>\n",
       "      <td>supports</td>\n",
       "    </tr>\n",
       "  </tbody>\n",
       "</table>\n",
       "</div>"
      ],
      "text/plain": [
       "   index                                               text  \\\n",
       "0      0  Male infant circumcision is tantamount to chil...   \n",
       "1      1  Male infant circumcision is tantamount to chil...   \n",
       "2      2  Male infant circumcision is tantamount to chil...   \n",
       "3      3                 punishment should fit the criminal   \n",
       "4      4                 punishment should fit the criminal   \n",
       "\n",
       "                                         perspective stance_label_3  \n",
       "0  Parents have the right to use their best judgm...        refutes  \n",
       "1             Parents know what best for thier child        refutes  \n",
       "2  Parents have the right to make the decisions f...        refutes  \n",
       "3                   It will cause less re-offenders.       supports  \n",
       "4       Adequate punishment reduces future offenses.       supports  "
      ]
     },
     "execution_count": 5,
     "metadata": {},
     "output_type": "execute_result"
    }
   ],
   "source": [
    "train.head()"
   ]
  },
  {
   "cell_type": "code",
   "execution_count": 6,
   "id": "212ba465-2e45-49ea-87cd-30bd0328df93",
   "metadata": {},
   "outputs": [
    {
     "data": {
      "text/html": [
       "<div>\n",
       "<style scoped>\n",
       "    .dataframe tbody tr th:only-of-type {\n",
       "        vertical-align: middle;\n",
       "    }\n",
       "\n",
       "    .dataframe tbody tr th {\n",
       "        vertical-align: top;\n",
       "    }\n",
       "\n",
       "    .dataframe thead th {\n",
       "        text-align: right;\n",
       "    }\n",
       "</style>\n",
       "<table border=\"1\" class=\"dataframe\">\n",
       "  <thead>\n",
       "    <tr style=\"text-align: right;\">\n",
       "      <th></th>\n",
       "      <th>index</th>\n",
       "      <th>text</th>\n",
       "      <th>perspective</th>\n",
       "      <th>stance_label_3</th>\n",
       "    </tr>\n",
       "  </thead>\n",
       "  <tbody>\n",
       "    <tr>\n",
       "      <th>0</th>\n",
       "      <td>0</td>\n",
       "      <td>Male infant circumcision is tantamount to chil...</td>\n",
       "      <td>Parents have the right to use their best judgm...</td>\n",
       "      <td>refutes</td>\n",
       "    </tr>\n",
       "    <tr>\n",
       "      <th>1</th>\n",
       "      <td>1</td>\n",
       "      <td>Male infant circumcision is tantamount to chil...</td>\n",
       "      <td>Parents know what best for thier child</td>\n",
       "      <td>refutes</td>\n",
       "    </tr>\n",
       "    <tr>\n",
       "      <th>2</th>\n",
       "      <td>2</td>\n",
       "      <td>Male infant circumcision is tantamount to chil...</td>\n",
       "      <td>Parents have the right to make the decisions f...</td>\n",
       "      <td>refutes</td>\n",
       "    </tr>\n",
       "    <tr>\n",
       "      <th>3</th>\n",
       "      <td>3</td>\n",
       "      <td>punishment should fit the criminal</td>\n",
       "      <td>It will cause less re-offenders.</td>\n",
       "      <td>supports</td>\n",
       "    </tr>\n",
       "    <tr>\n",
       "      <th>4</th>\n",
       "      <td>4</td>\n",
       "      <td>punishment should fit the criminal</td>\n",
       "      <td>Adequate punishment reduces future offenses.</td>\n",
       "      <td>supports</td>\n",
       "    </tr>\n",
       "  </tbody>\n",
       "</table>\n",
       "</div>"
      ],
      "text/plain": [
       "   index                                               text  \\\n",
       "0      0  Male infant circumcision is tantamount to chil...   \n",
       "1      1  Male infant circumcision is tantamount to chil...   \n",
       "2      2  Male infant circumcision is tantamount to chil...   \n",
       "3      3                 punishment should fit the criminal   \n",
       "4      4                 punishment should fit the criminal   \n",
       "\n",
       "                                         perspective stance_label_3  \n",
       "0  Parents have the right to use their best judgm...        refutes  \n",
       "1             Parents know what best for thier child        refutes  \n",
       "2  Parents have the right to make the decisions f...        refutes  \n",
       "3                   It will cause less re-offenders.       supports  \n",
       "4       Adequate punishment reduces future offenses.       supports  "
      ]
     },
     "execution_count": 6,
     "metadata": {},
     "output_type": "execute_result"
    }
   ],
   "source": [
    "all_together = pd.concat([train, dev, test])\n",
    "all_together.head()"
   ]
  },
  {
   "cell_type": "code",
   "execution_count": 30,
   "id": "dcdc873e-610e-430a-9e23-2b7cf8301469",
   "metadata": {},
   "outputs": [],
   "source": [
    "all_together['full_text'] = (all_together['text'].str.strip() + ' ' + all_together['perspective'].str.strip()).str.lower()"
   ]
  },
  {
   "cell_type": "code",
   "execution_count": 31,
   "id": "8f9e9799-d324-4875-872a-1f227cae00b0",
   "metadata": {},
   "outputs": [],
   "source": [
    "list_of_rows = all_together['full_text'].tolist()"
   ]
  },
  {
   "cell_type": "code",
   "execution_count": 32,
   "id": "9df929ba-bd70-4f53-8c1b-f616d1a7c586",
   "metadata": {},
   "outputs": [
    {
     "data": {
      "text/plain": [
       "11876"
      ]
     },
     "execution_count": 32,
     "metadata": {},
     "output_type": "execute_result"
    }
   ],
   "source": [
    "len(list_of_rows)"
   ]
  },
  {
   "cell_type": "code",
   "execution_count": 33,
   "id": "80c724f3-7a7d-4cae-a549-f0878e632be5",
   "metadata": {},
   "outputs": [],
   "source": [
    "st = list_of_rows[0]"
   ]
  },
  {
   "cell_type": "code",
   "execution_count": 34,
   "id": "5c0705fe-adbc-46af-b74e-ae1e73d8c2d7",
   "metadata": {},
   "outputs": [],
   "source": [
    "tagger = spacy.load('en_core_web_trf')"
   ]
  },
  {
   "cell_type": "code",
   "execution_count": 35,
   "id": "f47b36ee-357f-471c-8bf5-8b8d62c5d236",
   "metadata": {},
   "outputs": [],
   "source": [
    "tagger_result = tagger(st)"
   ]
  },
  {
   "cell_type": "code",
   "execution_count": 36,
   "id": "bf1d6947-ca68-4bc3-9d7d-ed07c592e674",
   "metadata": {},
   "outputs": [],
   "source": [
    "NER_unlowerd = NER"
   ]
  },
  {
   "cell_type": "code",
   "execution_count": 37,
   "id": "775145a3-b21b-41e0-823d-6b37cdd24633",
   "metadata": {},
   "outputs": [
    {
     "data": {
      "application/vnd.jupyter.widget-view+json": {
       "model_id": "500d4c49e6c045a8b30f9a3c7ce716f5",
       "version_major": 2,
       "version_minor": 0
      },
      "text/plain": [
       "  0%|          | 0/11876 [00:00<?, ?it/s]"
      ]
     },
     "metadata": {},
     "output_type": "display_data"
    }
   ],
   "source": [
    "NER = [tagger(doc).ents for doc in tqdm(list_of_rows)]"
   ]
  },
  {
   "cell_type": "code",
   "execution_count": 40,
   "id": "3cefc4bd-f731-435d-923b-791376fb5b24",
   "metadata": {},
   "outputs": [
    {
     "data": {
      "text/plain": [
       "([(),\n",
       "  (),\n",
       "  (),\n",
       "  (),\n",
       "  (),\n",
       "  (),\n",
       "  (),\n",
       "  (),\n",
       "  (),\n",
       "  (),\n",
       "  (),\n",
       "  (),\n",
       "  (),\n",
       "  (),\n",
       "  (),\n",
       "  (china,),\n",
       "  (china, china),\n",
       "  (islamic, daesh, daesh, the syrian civil war),\n",
       "  (islamic,),\n",
       "  (islamic, west, islamic, west),\n",
       "  (islamic, daesh, west, islamic, western),\n",
       "  (islamic,),\n",
       "  (islamic, daesh, daesh),\n",
       "  (),\n",
       "  (),\n",
       "  (),\n",
       "  (),\n",
       "  (),\n",
       "  (),\n",
       "  (),\n",
       "  (),\n",
       "  (),\n",
       "  (),\n",
       "  (),\n",
       "  (),\n",
       "  (),\n",
       "  (),\n",
       "  (),\n",
       "  (),\n",
       "  (),\n",
       "  (),\n",
       "  (),\n",
       "  (),\n",
       "  (),\n",
       "  (),\n",
       "  (),\n",
       "  (),\n",
       "  (),\n",
       "  (),\n",
       "  (),\n",
       "  (),\n",
       "  (),\n",
       "  (iran,),\n",
       "  (iran, israel),\n",
       "  (),\n",
       "  (the united states,),\n",
       "  (us,),\n",
       "  (us,),\n",
       "  (iran, israel, the united states),\n",
       "  (us, iran, israel),\n",
       "  (),\n",
       "  (),\n",
       "  (),\n",
       "  (),\n",
       "  (),\n",
       "  (),\n",
       "  (),\n",
       "  (),\n",
       "  (),\n",
       "  (),\n",
       "  (),\n",
       "  (),\n",
       "  (),\n",
       "  (),\n",
       "  (first,),\n",
       "  (first,),\n",
       "  (),\n",
       "  (),\n",
       "  (),\n",
       "  (),\n",
       "  (),\n",
       "  (),\n",
       "  (),\n",
       "  (),\n",
       "  (),\n",
       "  (),\n",
       "  (),\n",
       "  (),\n",
       "  (),\n",
       "  ()],)"
      ]
     },
     "execution_count": 40,
     "metadata": {},
     "output_type": "execute_result"
    }
   ],
   "source": [
    "NER[:90],"
   ]
  },
  {
   "cell_type": "code",
   "execution_count": 39,
   "id": "0133948a-dbc2-40b0-b6f3-72ed529ca4da",
   "metadata": {},
   "outputs": [
    {
     "data": {
      "text/plain": [
       "3816"
      ]
     },
     "execution_count": 39,
     "metadata": {},
     "output_type": "execute_result"
    }
   ],
   "source": [
    "sum(1 if len(i)>0 else 0 for i in NER)"
   ]
  },
  {
   "cell_type": "code",
   "execution_count": 18,
   "id": "431e8ad9-2174-4354-8010-65975dbba594",
   "metadata": {},
   "outputs": [
    {
     "data": {
      "text/plain": [
       "['cats',\n",
       " 'char_span',\n",
       " 'copy',\n",
       " 'count_by',\n",
       " 'doc',\n",
       " 'ents',\n",
       " 'extend_tensor',\n",
       " 'from_array',\n",
       " 'from_bytes',\n",
       " 'from_dict',\n",
       " 'from_disk',\n",
       " 'from_docs',\n",
       " 'get_extension',\n",
       " 'get_lca_matrix',\n",
       " 'has_annotation',\n",
       " 'has_extension',\n",
       " 'has_unknown_spaces',\n",
       " 'has_vector',\n",
       " 'is_nered',\n",
       " 'is_parsed',\n",
       " 'is_sentenced',\n",
       " 'is_tagged',\n",
       " 'lang',\n",
       " 'lang_',\n",
       " 'mem',\n",
       " 'noun_chunks',\n",
       " 'noun_chunks_iterator',\n",
       " 'remove_extension',\n",
       " 'retokenize',\n",
       " 'sentiment',\n",
       " 'sents',\n",
       " 'set_ents',\n",
       " 'set_extension',\n",
       " 'similarity',\n",
       " 'spans',\n",
       " 'tensor',\n",
       " 'text',\n",
       " 'text_with_ws',\n",
       " 'to_array',\n",
       " 'to_bytes',\n",
       " 'to_dict',\n",
       " 'to_disk',\n",
       " 'to_json',\n",
       " 'to_utf8_array',\n",
       " 'user_data',\n",
       " 'user_hooks',\n",
       " 'user_span_hooks',\n",
       " 'user_token_hooks',\n",
       " 'vector',\n",
       " 'vector_norm',\n",
       " 'vocab']"
      ]
     },
     "execution_count": 18,
     "metadata": {},
     "output_type": "execute_result"
    }
   ],
   "source": [
    "[i for i in dir(tagger_result) if i[0]!='_']"
   ]
  },
  {
   "cell_type": "code",
   "execution_count": null,
   "id": "00b05193-7632-4c7f-82ff-803e3597986d",
   "metadata": {},
   "outputs": [],
   "source": []
  }
 ],
 "metadata": {
  "kernelspec": {
   "display_name": "Python 3 (ipykernel)",
   "language": "python",
   "name": "python3"
  },
  "language_info": {
   "codemirror_mode": {
    "name": "ipython",
    "version": 3
   },
   "file_extension": ".py",
   "mimetype": "text/x-python",
   "name": "python",
   "nbconvert_exporter": "python",
   "pygments_lexer": "ipython3",
   "version": "3.8.10"
  }
 },
 "nbformat": 4,
 "nbformat_minor": 5
}
