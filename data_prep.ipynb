{
 "cells": [
  {
   "cell_type": "code",
   "execution_count": 167,
   "id": "3c91469b-1c86-40d1-a3dd-cdfe19148898",
   "metadata": {},
   "outputs": [],
   "source": [
    "import json\n",
    "import pandas as pd\n",
    "from glob import glob\n",
    "import os\n",
    "import numpy as np"
   ]
  },
  {
   "cell_type": "code",
   "execution_count": 179,
   "id": "6fa1081a-1a9d-4191-ae61-7f34cc5f6b6f",
   "metadata": {},
   "outputs": [],
   "source": [
    "def get_raw_files():\n",
    "    \"\"\" findes combines and splits to train dev test \"\"\"\n",
    "    all_jsons = glob('./**/*.json',recursive=True)\n",
    "    for file_name in all_jsons:\n",
    "        name = file_name.split(os.sep)[-1]\n",
    "        if name == 'perspective_pool_v1.0.json':\n",
    "            perspective = file_name\n",
    "        elif name == 'evidence_pool_v1.0.json':\n",
    "            evidence = file_name\n",
    "        elif name == 'dataset_split_v1.0.json':\n",
    "            split = file_name\n",
    "        elif name == 'perspectrum_with_answers_v1.0.json':\n",
    "            merger = file_name\n",
    "            \n",
    "    perspective = pd.read_json(perspective)\n",
    "    perspective.columns= ['pId','perspective','source']\n",
    "    evidence = pd.read_json(evidence)\n",
    "    split = pd.read_json(split,typ='series').reset_index()\n",
    "    split.columns = ['id','split']\n",
    "    merger = pd.read_json(merger)\n",
    "    return perspective,evidence,split,merger\n",
    "\n",
    "def unwind_merger(merger_df):\n",
    "    merger_df = merger_df.explode('perspectives')\n",
    "    row_per_cluster = merger_df['perspectives'].apply(pd.Series)[['pids','stance_label_3']]\n",
    "    row_per_cluster = row_per_cluster.explode('pids')\n",
    "    row_per_cluster = row_per_cluster.drop_duplicates()\n",
    "    row_per_pid_cid = pd.merge(merger_df,row_per_cluster,how='inner',left_index=True,right_index=True)\n",
    "    row_per_pid_cid = row_per_pid_cid[['cId','text','pids','stance_label_3','split']]\n",
    "    row_per_pid_cid = row_per_pid_cid.drop_duplicates()\n",
    "    return row_per_pid_cid\n",
    "\n",
    "def get_train_test_dev():\n",
    "    \"\"\" main fubction \"\"\"\n",
    "    perspective,evidence,split,merger = get_raw_files()\n",
    "    merger = pd.merge(merger,split,left_on='cId',right_on='id')\n",
    "    merger = unwind_merger(merger)\n",
    "    claim_and_pres = pd.merge(merger,perspective,left_on='pids',right_on='pId',how='inner')\n",
    "    claim_pres_split = claim_and_pres[['text','perspective','stance_label_3','split']].drop_duplicates()\n",
    "    train = claim_pres_split[claim_pres_split['split']=='train']\n",
    "    test = claim_pres_split[claim_pres_split['split']=='test']\n",
    "    dev = claim_pres_split[claim_pres_split['split']=='dev']\n",
    "    return train,dev,test"
   ]
  },
  {
   "cell_type": "code",
   "execution_count": 180,
   "id": "1edfb073-57f0-4a49-957d-57f0693e7672",
   "metadata": {},
   "outputs": [],
   "source": [
    "train,dev,test = get_train_test_dev()"
   ]
  },
  {
   "cell_type": "code",
   "execution_count": 181,
   "id": "0faf09b6-606a-4565-a832-1b9841c8077d",
   "metadata": {},
   "outputs": [
    {
     "name": "stdout",
     "output_type": "stream",
     "text": [
      "5096\n",
      "1552\n",
      "2425\n"
     ]
    }
   ],
   "source": [
    "for i in (train,dev,test):\n",
    "    print(len(i))"
   ]
  },
  {
   "cell_type": "code",
   "execution_count": 183,
   "id": "591717a3-d521-47ef-a1f9-1911f1274b36",
   "metadata": {},
   "outputs": [
    {
     "data": {
      "text/html": [
       "<div>\n",
       "<style scoped>\n",
       "    .dataframe tbody tr th:only-of-type {\n",
       "        vertical-align: middle;\n",
       "    }\n",
       "\n",
       "    .dataframe tbody tr th {\n",
       "        vertical-align: top;\n",
       "    }\n",
       "\n",
       "    .dataframe thead th {\n",
       "        text-align: right;\n",
       "    }\n",
       "</style>\n",
       "<table border=\"1\" class=\"dataframe\">\n",
       "  <thead>\n",
       "    <tr style=\"text-align: right;\">\n",
       "      <th></th>\n",
       "      <th>text</th>\n",
       "      <th>perspective</th>\n",
       "      <th>stance_label_3</th>\n",
       "      <th>split</th>\n",
       "    </tr>\n",
       "  </thead>\n",
       "  <tbody>\n",
       "    <tr>\n",
       "      <th>0</th>\n",
       "      <td>Vaccination must be made compulsory</td>\n",
       "      <td>It is the state’s duty to protect its community</td>\n",
       "      <td>SUPPORT</td>\n",
       "      <td>dev</td>\n",
       "    </tr>\n",
       "    <tr>\n",
       "      <th>1</th>\n",
       "      <td>Vaccination must be made compulsory</td>\n",
       "      <td>The state must keep it's community safe.</td>\n",
       "      <td>SUPPORT</td>\n",
       "      <td>dev</td>\n",
       "    </tr>\n",
       "    <tr>\n",
       "      <th>2</th>\n",
       "      <td>Vaccination must be made compulsory</td>\n",
       "      <td>The safety of the community is the state's pri...</td>\n",
       "      <td>SUPPORT</td>\n",
       "      <td>dev</td>\n",
       "    </tr>\n",
       "    <tr>\n",
       "      <th>3</th>\n",
       "      <td>Vaccination must be made compulsory</td>\n",
       "      <td>Compulsory vaccination violates the individual...</td>\n",
       "      <td>UNDERMINE</td>\n",
       "      <td>dev</td>\n",
       "    </tr>\n",
       "    <tr>\n",
       "      <th>4</th>\n",
       "      <td>Vaccination must be made compulsory</td>\n",
       "      <td>Individuals have the right to refuse vaccinati...</td>\n",
       "      <td>UNDERMINE</td>\n",
       "      <td>dev</td>\n",
       "    </tr>\n",
       "  </tbody>\n",
       "</table>\n",
       "</div>"
      ],
      "text/plain": [
       "                                  text  \\\n",
       "0  Vaccination must be made compulsory   \n",
       "1  Vaccination must be made compulsory   \n",
       "2  Vaccination must be made compulsory   \n",
       "3  Vaccination must be made compulsory   \n",
       "4  Vaccination must be made compulsory   \n",
       "\n",
       "                                         perspective stance_label_3 split  \n",
       "0   It is the state’s duty to protect its community         SUPPORT   dev  \n",
       "1           The state must keep it's community safe.        SUPPORT   dev  \n",
       "2  The safety of the community is the state's pri...        SUPPORT   dev  \n",
       "3  Compulsory vaccination violates the individual...      UNDERMINE   dev  \n",
       "4  Individuals have the right to refuse vaccinati...      UNDERMINE   dev  "
      ]
     },
     "execution_count": 183,
     "metadata": {},
     "output_type": "execute_result"
    }
   ],
   "source": [
    "dev.head()"
   ]
  },
  {
   "cell_type": "code",
   "execution_count": 184,
   "id": "d77ec745-f2e3-407c-b664-0a6a343dab90",
   "metadata": {},
   "outputs": [],
   "source": [
    "perspective,evidence,split,merger = get_raw_files()"
   ]
  },
  {
   "cell_type": "code",
   "execution_count": 187,
   "id": "ded62c7b-a1ff-4d8a-9460-43ff3308b8fc",
   "metadata": {},
   "outputs": [
    {
     "data": {
      "text/html": [
       "<div>\n",
       "<style scoped>\n",
       "    .dataframe tbody tr th:only-of-type {\n",
       "        vertical-align: middle;\n",
       "    }\n",
       "\n",
       "    .dataframe tbody tr th {\n",
       "        vertical-align: top;\n",
       "    }\n",
       "\n",
       "    .dataframe thead th {\n",
       "        text-align: right;\n",
       "    }\n",
       "</style>\n",
       "<table border=\"1\" class=\"dataframe\">\n",
       "  <thead>\n",
       "    <tr style=\"text-align: right;\">\n",
       "      <th></th>\n",
       "      <th>id</th>\n",
       "      <th>split</th>\n",
       "    </tr>\n",
       "  </thead>\n",
       "  <tbody>\n",
       "    <tr>\n",
       "      <th>457</th>\n",
       "      <td>499</td>\n",
       "      <td>dev</td>\n",
       "    </tr>\n",
       "  </tbody>\n",
       "</table>\n",
       "</div>"
      ],
      "text/plain": [
       "      id split\n",
       "457  499   dev"
      ]
     },
     "execution_count": 187,
     "metadata": {},
     "output_type": "execute_result"
    }
   ],
   "source": [
    "split[split['id']==499]"
   ]
  },
  {
   "cell_type": "code",
   "execution_count": 186,
   "id": "30cfcdc1-ac77-4ace-b734-0f7d109a2bfc",
   "metadata": {},
   "outputs": [
    {
     "data": {
      "text/html": [
       "<div>\n",
       "<style scoped>\n",
       "    .dataframe tbody tr th:only-of-type {\n",
       "        vertical-align: middle;\n",
       "    }\n",
       "\n",
       "    .dataframe tbody tr th {\n",
       "        vertical-align: top;\n",
       "    }\n",
       "\n",
       "    .dataframe thead th {\n",
       "        text-align: right;\n",
       "    }\n",
       "</style>\n",
       "<table border=\"1\" class=\"dataframe\">\n",
       "  <thead>\n",
       "    <tr style=\"text-align: right;\">\n",
       "      <th></th>\n",
       "      <th>cId</th>\n",
       "      <th>text</th>\n",
       "      <th>source</th>\n",
       "      <th>perspectives</th>\n",
       "      <th>topics</th>\n",
       "    </tr>\n",
       "  </thead>\n",
       "  <tbody>\n",
       "    <tr>\n",
       "      <th>0</th>\n",
       "      <td>499</td>\n",
       "      <td>Vaccination must be made compulsory</td>\n",
       "      <td>idebate</td>\n",
       "      <td>[{'pids': [3695, 24076, 24077], 'stance_label_...</td>\n",
       "      <td>[health_and_medicine]</td>\n",
       "    </tr>\n",
       "    <tr>\n",
       "      <th>1</th>\n",
       "      <td>167</td>\n",
       "      <td>Male infant circumcision is tantamount to chil...</td>\n",
       "      <td>idebate</td>\n",
       "      <td>[{'pids': [1242, 21983, 21984], 'stance_label_...</td>\n",
       "      <td>[culture, health_and_medicine, gender]</td>\n",
       "    </tr>\n",
       "    <tr>\n",
       "      <th>2</th>\n",
       "      <td>943</td>\n",
       "      <td>School Day Should Be Extended</td>\n",
       "      <td>debatewise</td>\n",
       "      <td>[{'pids': [7579], 'stance_label_3': 'SUPPORT',...</td>\n",
       "      <td>[]</td>\n",
       "    </tr>\n",
       "    <tr>\n",
       "      <th>3</th>\n",
       "      <td>944</td>\n",
       "      <td>punishment should fit the criminal</td>\n",
       "      <td>debatewise</td>\n",
       "      <td>[{'pids': [7584, 26958, 26959], 'stance_label_...</td>\n",
       "      <td>[law]</td>\n",
       "    </tr>\n",
       "    <tr>\n",
       "      <th>4</th>\n",
       "      <td>621</td>\n",
       "      <td>A government has the obligation to lessen the ...</td>\n",
       "      <td>debatewise</td>\n",
       "      <td>[{'pids': [5143], 'stance_label_3': 'SUPPORT',...</td>\n",
       "      <td>[politics, economy, society]</td>\n",
       "    </tr>\n",
       "  </tbody>\n",
       "</table>\n",
       "</div>"
      ],
      "text/plain": [
       "   cId                                               text      source  \\\n",
       "0  499                Vaccination must be made compulsory     idebate   \n",
       "1  167  Male infant circumcision is tantamount to chil...     idebate   \n",
       "2  943                      School Day Should Be Extended  debatewise   \n",
       "3  944                 punishment should fit the criminal  debatewise   \n",
       "4  621  A government has the obligation to lessen the ...  debatewise   \n",
       "\n",
       "                                        perspectives  \\\n",
       "0  [{'pids': [3695, 24076, 24077], 'stance_label_...   \n",
       "1  [{'pids': [1242, 21983, 21984], 'stance_label_...   \n",
       "2  [{'pids': [7579], 'stance_label_3': 'SUPPORT',...   \n",
       "3  [{'pids': [7584, 26958, 26959], 'stance_label_...   \n",
       "4  [{'pids': [5143], 'stance_label_3': 'SUPPORT',...   \n",
       "\n",
       "                                   topics  \n",
       "0                   [health_and_medicine]  \n",
       "1  [culture, health_and_medicine, gender]  \n",
       "2                                      []  \n",
       "3                                   [law]  \n",
       "4            [politics, economy, society]  "
      ]
     },
     "execution_count": 186,
     "metadata": {},
     "output_type": "execute_result"
    }
   ],
   "source": [
    "merger.head()"
   ]
  }
 ],
 "metadata": {
  "kernelspec": {
   "display_name": "Python 3 (ipykernel)",
   "language": "python",
   "name": "python3"
  },
  "language_info": {
   "codemirror_mode": {
    "name": "ipython",
    "version": 3
   },
   "file_extension": ".py",
   "mimetype": "text/x-python",
   "name": "python",
   "nbconvert_exporter": "python",
   "pygments_lexer": "ipython3",
   "version": "3.8.10"
  }
 },
 "nbformat": 4,
 "nbformat_minor": 5
}
